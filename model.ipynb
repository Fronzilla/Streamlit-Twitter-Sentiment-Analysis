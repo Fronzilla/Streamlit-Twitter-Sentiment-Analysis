{
 "cells": [
  {
   "cell_type": "markdown",
   "metadata": {},
   "source": [
    "# Dependencies\n",
    "For this task we ll use streamlit and flair\n",
    "<ul>\n",
    "<li>!pip install streamlit </li>\n",
    "<li> !pip3 install flair </li>\n",
    "</ul>\n",
    "\n"
   ]
  },
  {
   "cell_type": "code",
   "execution_count": 2,
   "metadata": {},
   "outputs": [
    {
     "name": "stdout",
     "output_type": "stream",
     "text": [
      "Collecting streamlit\n",
      "  Using cached https://files.pythonhosted.org/packages/57/3c/3435b11cea87499c4cd35c17420dd9232c3dfc951d6f772ab97698d158c7/streamlit-0.55.2-py2.py3-none-any.whl\n",
      "Collecting pydeck>=0.1.dev5 (from streamlit)\n",
      "  Using cached https://files.pythonhosted.org/packages/6e/1f/cc6c6fd2464b23bceb774a0fe067f0edf73c6f9095424ce3bdec0480c171/pydeck-0.4.0b1-py2.py3-none-any.whl\n",
      "Requirement already satisfied: tornado<6.0,>=5.0 in /Library/Python/2.7/site-packages (from streamlit)\n",
      "Collecting protobuf>=3.6.0 (from streamlit)\n",
      "  Using cached https://files.pythonhosted.org/packages/a9/cd/96adbd69740996282628d40bcca22ed1115202d952603638ac495b1a86e1/protobuf-3.12.2-cp27-cp27m-macosx_10_9_x86_64.whl\n",
      "Collecting tzlocal (from streamlit)\n",
      "  Using cached https://files.pythonhosted.org/packages/5d/94/d47b0fd5988e6b7059de05720a646a2930920fff247a826f61674d436ba4/tzlocal-2.1-py2.py3-none-any.whl\n",
      "Collecting click>=7.0 (from streamlit)\n",
      "  Using cached https://files.pythonhosted.org/packages/d2/3d/fa76db83bf75c4f8d338c2fd15c8d33fdd7ad23a9b5e57eb6c5de26b430e/click-7.1.2-py2.py3-none-any.whl\n",
      "Collecting pillow>=6.2.0 (from streamlit)\n",
      "  Using cached https://files.pythonhosted.org/packages/d1/6a/41719faa7421602a85941867059f53787ac40c85c8fe9e6bb48809e3246e/Pillow-6.2.2-cp27-cp27m-macosx_10_6_intel.whl\n",
      "Collecting enum-compat (from streamlit)\n",
      "Collecting base58 (from streamlit)\n",
      "  Using cached https://files.pythonhosted.org/packages/62/84/a1528b38833081daafd51702b4fc784a98031a4f7277d0f3ed1f95248437/base58-1.0.3-py2-none-any.whl\n",
      "Collecting altair>=3.2.0 (from streamlit)\n",
      "  Using cached https://files.pythonhosted.org/packages/1f/ef/1311cb19c78954ebf23842e6710cc2ecf4bd1966934ca3cd41f005b77221/altair-3.3.0-py2.py3-none-any.whl\n",
      "Requirement already satisfied: future in /System/Library/Frameworks/Python.framework/Versions/2.7/Extras/lib/python (from streamlit)\n",
      "Collecting toml (from streamlit)\n",
      "  Using cached https://files.pythonhosted.org/packages/9f/e1/1b40b80f2e1663a6b9f497123c11d7d988c0919abbf3c3f2688e448c5363/toml-0.10.1-py2.py3-none-any.whl\n",
      "Collecting pandas>=0.21.0 (from streamlit)\n",
      "  Using cached https://files.pythonhosted.org/packages/52/ff/912fe03a623a70bcf297d466013a0b4f4c68c3b60f86bf226682d061fc09/pandas-0.24.2-cp27-cp27m-macosx_10_6_intel.macosx_10_9_intel.macosx_10_9_x86_64.macosx_10_10_intel.macosx_10_10_x86_64.whl\n",
      "Collecting validators (from streamlit)\n",
      "Requirement already satisfied: python-dateutil<=2.8.0 in /System/Library/Frameworks/Python.framework/Versions/2.7/Extras/lib/python (from streamlit)\n",
      "Collecting requests (from streamlit)\n",
      "  Using cached https://files.pythonhosted.org/packages/1a/70/1935c770cb3be6e3a8b78ced23d7e0f3b187f5cbfab4749523ed65d7c9b1/requests-2.23.0-py2.py3-none-any.whl\n",
      "Collecting botocore (from streamlit)\n",
      "  Using cached https://files.pythonhosted.org/packages/7f/66/e0d17816e957ee440bd75b13a7f94ba973861a2af2c75f1722129fb881b5/botocore-1.16.24-py2.py3-none-any.whl\n",
      "Requirement already satisfied: numpy in /System/Library/Frameworks/Python.framework/Versions/2.7/Extras/lib/python (from streamlit)\n",
      "Collecting watchdog (from streamlit)\n",
      "Collecting astor (from streamlit)\n",
      "  Using cached https://files.pythonhosted.org/packages/c3/88/97eef84f48fa04fbd6750e62dcceafba6c63c81b7ac1420856c8dcc0a3f9/astor-0.8.1-py2.py3-none-any.whl\n",
      "Collecting boto3 (from streamlit)\n",
      "  Using cached https://files.pythonhosted.org/packages/44/95/1d0e42f81403ac79ddb8aa67772765a671002a7a93e0a654eeb07bf8acf5/boto3-1.13.24-py2.py3-none-any.whl\n",
      "Collecting blinker (from streamlit)\n",
      "Collecting ipython>=5.8.0; python_version < \"3.4\" (from pydeck>=0.1.dev5->streamlit)\n",
      "  Using cached https://files.pythonhosted.org/packages/ce/2c/2849a2b37024a01a847c87d81825c0489eb22ffc6416cac009bf281ea838/ipython-5.10.0-py2-none-any.whl\n",
      "Collecting jinja2>=2.10.1 (from pydeck>=0.1.dev5->streamlit)\n",
      "  Using cached https://files.pythonhosted.org/packages/30/9e/f663a2aa66a09d838042ae1a2c5659828bb9b41ea3a6efa20a20fd92b121/Jinja2-2.11.2-py2.py3-none-any.whl\n",
      "Collecting traitlets>=4.3.2 (from pydeck>=0.1.dev5->streamlit)\n",
      "  Using cached https://files.pythonhosted.org/packages/ca/ab/872a23e29cec3cf2594af7e857f18b687ad21039c1f9b922fac5b9b142d5/traitlets-4.3.3-py2.py3-none-any.whl\n",
      "Collecting ipywidgets>=7.0.0 (from pydeck>=0.1.dev5->streamlit)\n",
      "  Using cached https://files.pythonhosted.org/packages/56/a0/dbcf5881bb2f51e8db678211907f16ea0a182b232c591a6d6f276985ca95/ipywidgets-7.5.1-py2.py3-none-any.whl\n",
      "Requirement already satisfied: backports-abc>=0.4 in /Library/Python/2.7/site-packages (from tornado<6.0,>=5.0->streamlit)\n",
      "Requirement already satisfied: futures in /Library/Python/2.7/site-packages (from tornado<6.0,>=5.0->streamlit)\n",
      "Requirement already satisfied: singledispatch in /Library/Python/2.7/site-packages (from tornado<6.0,>=5.0->streamlit)\n",
      "Requirement already satisfied: setuptools in /System/Library/Frameworks/Python.framework/Versions/2.7/Extras/lib/python (from protobuf>=3.6.0->streamlit)\n",
      "Requirement already satisfied: six>=1.9 in /System/Library/Frameworks/Python.framework/Versions/2.7/Extras/lib/python (from protobuf>=3.6.0->streamlit)\n",
      "Requirement already satisfied: pytz in /System/Library/Frameworks/Python.framework/Versions/2.7/Extras/lib/python (from tzlocal->streamlit)\n",
      "Requirement already satisfied: enum34; python_version < \"3.4\" in /System/Library/Frameworks/Python.framework/Versions/2.7/Extras/lib/python (from enum-compat->streamlit)\n",
      "Collecting toolz (from altair>=3.2.0->streamlit)\n",
      "Collecting typing>=3.6; python_version < \"3.5\" (from altair>=3.2.0->streamlit)\n",
      "  Using cached https://files.pythonhosted.org/packages/22/30/64ca29543375759dc589ade14a6cd36382abf2bec17d67de8481bc9814d7/typing-3.7.4.1-py2-none-any.whl\n",
      "Collecting jsonschema (from altair>=3.2.0->streamlit)\n",
      "  Using cached https://files.pythonhosted.org/packages/c5/8f/51e89ce52a085483359217bc72cdbf6e75ee595d5b1d4b5ade40c7e018b8/jsonschema-3.2.0-py2.py3-none-any.whl\n",
      "Collecting entrypoints (from altair>=3.2.0->streamlit)\n",
      "  Using cached https://files.pythonhosted.org/packages/ac/c6/44694103f8c221443ee6b0041f69e2740d89a25641e62fb4f2ee568f2f9c/entrypoints-0.3-py2.py3-none-any.whl\n",
      "Collecting decorator>=3.4.0 (from validators->streamlit)\n",
      "  Using cached https://files.pythonhosted.org/packages/ed/1b/72a1821152d07cf1d8b6fce298aeb06a7eb90f4d6d41acec9861e7cc6df0/decorator-4.4.2-py2.py3-none-any.whl\n",
      "Collecting idna<3,>=2.5 (from requests->streamlit)\n",
      "  Using cached https://files.pythonhosted.org/packages/89/e3/afebe61c546d18fb1709a61bee788254b40e736cff7271c7de5de2dc4128/idna-2.9-py2.py3-none-any.whl\n",
      "Collecting chardet<4,>=3.0.2 (from requests->streamlit)\n",
      "  Using cached https://files.pythonhosted.org/packages/bc/a9/01ffebfb562e4274b6487b4bb1ddec7ca55ec7510b22e4c51f14098443b8/chardet-3.0.4-py2.py3-none-any.whl\n",
      "Collecting certifi>=2017.4.17 (from requests->streamlit)\n",
      "  Using cached https://files.pythonhosted.org/packages/98/99/def511020aa8f663d4a2cfaa38467539e864799289ff354569e339e375b1/certifi-2020.4.5.2-py2.py3-none-any.whl\n",
      "Collecting urllib3!=1.25.0,!=1.25.1,<1.26,>=1.21.1 (from requests->streamlit)\n",
      "  Using cached https://files.pythonhosted.org/packages/e1/e5/df302e8017440f111c11cc41a6b432838672f5a70aa29227bf58149dc72f/urllib3-1.25.9-py2.py3-none-any.whl\n",
      "Collecting docutils<0.16,>=0.10 (from botocore->streamlit)\n",
      "  Using cached https://files.pythonhosted.org/packages/3a/dc/bf2b15d1fa15a6f7a9e77a61b74ecbbae7258558fcda8ffc9a6638a6b327/docutils-0.15.2-py2-none-any.whl\n",
      "Collecting jmespath<1.0.0,>=0.7.1 (from botocore->streamlit)\n",
      "  Using cached https://files.pythonhosted.org/packages/07/cb/5f001272b6faeb23c1c9e0acc04d48eaaf5c862c17709d20e3469c6e0139/jmespath-0.10.0-py2.py3-none-any.whl\n",
      "Collecting pathtools>=0.1.1 (from watchdog->streamlit)\n",
      "Collecting s3transfer<0.4.0,>=0.3.0 (from boto3->streamlit)\n",
      "  Using cached https://files.pythonhosted.org/packages/69/79/e6afb3d8b0b4e96cefbdc690f741d7dd24547ff1f94240c997a26fa908d3/s3transfer-0.3.3-py2.py3-none-any.whl\n",
      "Collecting simplegeneric>0.8 (from ipython>=5.8.0; python_version < \"3.4\"->pydeck>=0.1.dev5->streamlit)\n",
      "Collecting backports.shutil-get-terminal-size; python_version == \"2.7\" (from ipython>=5.8.0; python_version < \"3.4\"->pydeck>=0.1.dev5->streamlit)\n",
      "  Using cached https://files.pythonhosted.org/packages/7d/cd/1750d6c35fe86d35f8562091737907f234b78fdffab42b29c72b1dd861f4/backports.shutil_get_terminal_size-1.0.0-py2.py3-none-any.whl\n"
     ]
    },
    {
     "name": "stdout",
     "output_type": "stream",
     "text": [
      "Collecting pexpect; sys_platform != \"win32\" (from ipython>=5.8.0; python_version < \"3.4\"->pydeck>=0.1.dev5->streamlit)\n",
      "  Using cached https://files.pythonhosted.org/packages/39/7b/88dbb785881c28a102619d46423cb853b46dbccc70d3ac362d99773a78ce/pexpect-4.8.0-py2.py3-none-any.whl\n",
      "Collecting pathlib2; python_version == \"2.7\" or python_version == \"3.3\" (from ipython>=5.8.0; python_version < \"3.4\"->pydeck>=0.1.dev5->streamlit)\n",
      "  Using cached https://files.pythonhosted.org/packages/e9/45/9c82d3666af4ef9f221cbb954e1d77ddbb513faf552aea6df5f37f1a4859/pathlib2-2.3.5-py2.py3-none-any.whl\n",
      "Collecting pickleshare (from ipython>=5.8.0; python_version < \"3.4\"->pydeck>=0.1.dev5->streamlit)\n",
      "  Using cached https://files.pythonhosted.org/packages/9a/41/220f49aaea88bc6fa6cba8d05ecf24676326156c23b991e80b3f2fc24c77/pickleshare-0.7.5-py2.py3-none-any.whl\n",
      "Collecting prompt-toolkit<2.0.0,>=1.0.4 (from ipython>=5.8.0; python_version < \"3.4\"->pydeck>=0.1.dev5->streamlit)\n",
      "  Using cached https://files.pythonhosted.org/packages/9d/d2/2f099b5cd62dab819ce7a9f1431c09a9032fbfbb6474f442722e88935376/prompt_toolkit-1.0.18-py2-none-any.whl\n",
      "Collecting pygments<2.6 (from ipython>=5.8.0; python_version < \"3.4\"->pydeck>=0.1.dev5->streamlit)\n",
      "  Using cached https://files.pythonhosted.org/packages/be/39/32da3184734730c0e4d3fa3b2b5872104668ad6dc1b5a73d8e477e5fe967/Pygments-2.5.2-py2.py3-none-any.whl\n",
      "Collecting appnope; sys_platform == \"darwin\" (from ipython>=5.8.0; python_version < \"3.4\"->pydeck>=0.1.dev5->streamlit)\n",
      "  Using cached https://files.pythonhosted.org/packages/87/a9/7985e6a53402f294c8f0e8eff3151a83f1fb901fa92909bb3ff29b4d22af/appnope-0.1.0-py2.py3-none-any.whl\n",
      "Collecting MarkupSafe>=0.23 (from jinja2>=2.10.1->pydeck>=0.1.dev5->streamlit)\n",
      "  Using cached https://files.pythonhosted.org/packages/6d/d2/0ccd2c0e2cd93b35e765d9b3205cd6602e6b202b522fc7997531353715b3/MarkupSafe-1.1.1-cp27-cp27m-macosx_10_6_intel.whl\n",
      "Collecting ipython-genutils (from traitlets>=4.3.2->pydeck>=0.1.dev5->streamlit)\n",
      "  Using cached https://files.pythonhosted.org/packages/fa/bc/9bd3b5c2b4774d5f33b2d544f1460be9df7df2fe42f352135381c347c69a/ipython_genutils-0.2.0-py2.py3-none-any.whl\n",
      "Collecting widgetsnbextension~=3.5.0 (from ipywidgets>=7.0.0->pydeck>=0.1.dev5->streamlit)\n",
      "  Using cached https://files.pythonhosted.org/packages/6c/7b/7ac231c20d2d33c445eaacf8a433f4e22c60677eb9776c7c5262d7ddee2d/widgetsnbextension-3.5.1-py2.py3-none-any.whl\n",
      "Collecting nbformat>=4.2.0 (from ipywidgets>=7.0.0->pydeck>=0.1.dev5->streamlit)\n",
      "  Using cached https://files.pythonhosted.org/packages/da/27/9a654d2b6cc1eaa517d1c5a4405166c7f6d72f04f6e7eea41855fe808a46/nbformat-4.4.0-py2.py3-none-any.whl\n",
      "Collecting ipykernel>=4.5.1 (from ipywidgets>=7.0.0->pydeck>=0.1.dev5->streamlit)\n",
      "  Using cached https://files.pythonhosted.org/packages/59/9e/e16335ee2d645ee48f082e4207d4fad9bdce09cc1537e76320c341d8d75c/ipykernel-4.10.1-py2-none-any.whl\n",
      "Collecting importlib-metadata; python_version < \"3.8\" (from jsonschema->altair>=3.2.0->streamlit)\n",
      "  Using cached https://files.pythonhosted.org/packages/98/13/a1d703ec396ade42c1d33df0e1cb691a28b7c08b336a5683912c87e04cd7/importlib_metadata-1.6.1-py2.py3-none-any.whl\n",
      "Collecting attrs>=17.4.0 (from jsonschema->altair>=3.2.0->streamlit)\n",
      "  Using cached https://files.pythonhosted.org/packages/a2/db/4313ab3be961f7a763066401fb77f7748373b6094076ae2bda2806988af6/attrs-19.3.0-py2.py3-none-any.whl\n",
      "Collecting functools32; python_version < \"3\" (from jsonschema->altair>=3.2.0->streamlit)\n",
      "Collecting pyrsistent>=0.14.0 (from jsonschema->altair>=3.2.0->streamlit)\n",
      "Collecting configparser>=3.5; python_version == \"2.7\" (from entrypoints->altair>=3.2.0->streamlit)\n",
      "  Using cached https://files.pythonhosted.org/packages/7a/2a/95ed0501cf5d8709490b1d3a3f9b5cf340da6c433f896bbe9ce08dbe6785/configparser-4.0.2-py2.py3-none-any.whl\n",
      "Collecting ptyprocess>=0.5 (from pexpect; sys_platform != \"win32\"->ipython>=5.8.0; python_version < \"3.4\"->pydeck>=0.1.dev5->streamlit)\n",
      "  Using cached https://files.pythonhosted.org/packages/d1/29/605c2cc68a9992d18dada28206eeada56ea4bd07a239669da41674648b6f/ptyprocess-0.6.0-py2.py3-none-any.whl\n",
      "Collecting scandir; python_version < \"3.5\" (from pathlib2; python_version == \"2.7\" or python_version == \"3.3\"->ipython>=5.8.0; python_version < \"3.4\"->pydeck>=0.1.dev5->streamlit)\n",
      "Collecting wcwidth (from prompt-toolkit<2.0.0,>=1.0.4->ipython>=5.8.0; python_version < \"3.4\"->pydeck>=0.1.dev5->streamlit)\n",
      "  Using cached https://files.pythonhosted.org/packages/1b/7b/de30a3962d8fbebbf8d748bfbf20c05c0a7c495df6716e82af109143ba00/wcwidth-0.2.3-py2.py3-none-any.whl\n",
      "Collecting notebook>=4.4.1 (from widgetsnbextension~=3.5.0->ipywidgets>=7.0.0->pydeck>=0.1.dev5->streamlit)\n",
      "  Using cached https://files.pythonhosted.org/packages/69/3c/ddeb2946f33f3e4058f4b7f996ae737c044a4c5c66a552a6e64817421b80/notebook-5.7.9-py2.py3-none-any.whl\n",
      "Collecting jupyter-core (from nbformat>=4.2.0->ipywidgets>=7.0.0->pydeck>=0.1.dev5->streamlit)\n",
      "  Using cached https://files.pythonhosted.org/packages/63/0d/df2d17cdf389cea83e2efa9a4d32f7d527ba78667e0153a8e676e957b2f7/jupyter_core-4.6.3-py2.py3-none-any.whl\n",
      "Collecting jupyter-client (from ipykernel>=4.5.1->ipywidgets>=7.0.0->pydeck>=0.1.dev5->streamlit)\n",
      "  Using cached https://files.pythonhosted.org/packages/13/81/fe0eee1bcf949851a120254b1f530ae1e01bdde2d3ab9710c6ff81525061/jupyter_client-5.3.4-py2.py3-none-any.whl\n",
      "Collecting contextlib2; python_version < \"3\" (from importlib-metadata; python_version < \"3.8\"->jsonschema->altair>=3.2.0->streamlit)\n",
      "  Using cached https://files.pythonhosted.org/packages/85/60/370352f7ef6aa96c52fb001831622f50f923c1d575427d021b8ab3311236/contextlib2-0.6.0.post1-py2.py3-none-any.whl\n",
      "Collecting zipp>=0.5 (from importlib-metadata; python_version < \"3.8\"->jsonschema->altair>=3.2.0->streamlit)\n",
      "  Using cached https://files.pythonhosted.org/packages/96/0a/67556e9b7782df7118c1f49bdc494da5e5e429c93aa77965f33e81287c8c/zipp-1.2.0-py2.py3-none-any.whl\n",
      "Collecting backports.functools-lru-cache>=1.2.1; python_version < \"3.2\" (from wcwidth->prompt-toolkit<2.0.0,>=1.0.4->ipython>=5.8.0; python_version < \"3.4\"->pydeck>=0.1.dev5->streamlit)\n",
      "  Using cached https://files.pythonhosted.org/packages/da/d1/080d2bb13773803648281a49e3918f65b31b7beebf009887a529357fd44a/backports.functools_lru_cache-1.6.1-py2.py3-none-any.whl\n",
      "Collecting nbconvert<6.0 (from notebook>=4.4.1->widgetsnbextension~=3.5.0->ipywidgets>=7.0.0->pydeck>=0.1.dev5->streamlit)\n",
      "  Using cached https://files.pythonhosted.org/packages/79/6c/05a569e9f703d18aacb89b7ad6075b404e8a4afde2c26b73ca77bb644b14/nbconvert-5.6.1-py2.py3-none-any.whl\n",
      "Collecting Send2Trash (from notebook>=4.4.1->widgetsnbextension~=3.5.0->ipywidgets>=7.0.0->pydeck>=0.1.dev5->streamlit)\n",
      "Collecting prometheus-client (from notebook>=4.4.1->widgetsnbextension~=3.5.0->ipywidgets>=7.0.0->pydeck>=0.1.dev5->streamlit)\n",
      "  Using cached https://files.pythonhosted.org/packages/3f/0e/554a265ffdc56e1494ef08e18f765b0cdec78797f510c58c45cf37abb4f4/prometheus_client-0.8.0-py2.py3-none-any.whl\n",
      "Collecting pyzmq>=17 (from notebook>=4.4.1->widgetsnbextension~=3.5.0->ipywidgets>=7.0.0->pydeck>=0.1.dev5->streamlit)\n",
      "  Using cached https://files.pythonhosted.org/packages/36/0a/abb91b112d796c8cf572902b423a76553ffd5505a5be00c6a210a2d7e545/pyzmq-19.0.1-cp27-cp27m-macosx_10_9_intel.whl\n",
      "Collecting terminado>=0.8.1 (from notebook>=4.4.1->widgetsnbextension~=3.5.0->ipywidgets>=7.0.0->pydeck>=0.1.dev5->streamlit)\n",
      "  Using cached https://files.pythonhosted.org/packages/ff/96/1d9a2c23990aea8f8e0b5c3b6627d03196a73771a17a2d9860bbe9823ab6/terminado-0.8.3-py2.py3-none-any.whl\n",
      "Requirement already satisfied: ipaddress; python_version == \"2.7\" in /System/Library/Frameworks/Python.framework/Versions/2.7/Extras/lib/python (from notebook>=4.4.1->widgetsnbextension~=3.5.0->ipywidgets>=7.0.0->pydeck>=0.1.dev5->streamlit)\n",
      "Collecting bleach (from nbconvert<6.0->notebook>=4.4.1->widgetsnbextension~=3.5.0->ipywidgets>=7.0.0->pydeck>=0.1.dev5->streamlit)\n",
      "  Using cached https://files.pythonhosted.org/packages/9a/1e/7d6cb3b27cd2c490558349ca5d5cc05b390b017da1c704cac807ac8bd9fb/bleach-3.1.5-py2.py3-none-any.whl\n",
      "Collecting mistune<2,>=0.8.1 (from nbconvert<6.0->notebook>=4.4.1->widgetsnbextension~=3.5.0->ipywidgets>=7.0.0->pydeck>=0.1.dev5->streamlit)\n"
     ]
    },
    {
     "name": "stdout",
     "output_type": "stream",
     "text": [
      "  Using cached https://files.pythonhosted.org/packages/09/ec/4b43dae793655b7d8a25f76119624350b4d65eb663459eb9603d7f1f0345/mistune-0.8.4-py2.py3-none-any.whl\n",
      "Collecting defusedxml (from nbconvert<6.0->notebook>=4.4.1->widgetsnbextension~=3.5.0->ipywidgets>=7.0.0->pydeck>=0.1.dev5->streamlit)\n",
      "  Using cached https://files.pythonhosted.org/packages/06/74/9b387472866358ebc08732de3da6dc48e44b0aacd2ddaa5cb85ab7e986a2/defusedxml-0.6.0-py2.py3-none-any.whl\n",
      "Collecting pandocfilters>=1.4.1 (from nbconvert<6.0->notebook>=4.4.1->widgetsnbextension~=3.5.0->ipywidgets>=7.0.0->pydeck>=0.1.dev5->streamlit)\n",
      "Collecting testpath (from nbconvert<6.0->notebook>=4.4.1->widgetsnbextension~=3.5.0->ipywidgets>=7.0.0->pydeck>=0.1.dev5->streamlit)\n",
      "  Using cached https://files.pythonhosted.org/packages/1b/9e/1a170feaa54f22aeb5a5d16c9015e82234275a3c8ab630b552493f9cb8a9/testpath-0.4.4-py2.py3-none-any.whl\n",
      "Collecting packaging (from bleach->nbconvert<6.0->notebook>=4.4.1->widgetsnbextension~=3.5.0->ipywidgets>=7.0.0->pydeck>=0.1.dev5->streamlit)\n",
      "  Using cached https://files.pythonhosted.org/packages/46/19/c5ab91b1b05cfe63cccd5cfc971db9214c6dd6ced54e33c30d5af1d2bc43/packaging-20.4-py2.py3-none-any.whl\n",
      "Collecting webencodings (from bleach->nbconvert<6.0->notebook>=4.4.1->widgetsnbextension~=3.5.0->ipywidgets>=7.0.0->pydeck>=0.1.dev5->streamlit)\n",
      "  Using cached https://files.pythonhosted.org/packages/f4/24/2a3e3df732393fed8b3ebf2ec078f05546de641fe1b667ee316ec1dcf3b7/webencodings-0.5.1-py2.py3-none-any.whl\n",
      "Collecting pyparsing>=2.0.2 (from packaging->bleach->nbconvert<6.0->notebook>=4.4.1->widgetsnbextension~=3.5.0->ipywidgets>=7.0.0->pydeck>=0.1.dev5->streamlit)\n",
      "  Using cached https://files.pythonhosted.org/packages/8a/bb/488841f56197b13700afd5658fc279a2025a39e22449b7cf29864669b15d/pyparsing-2.4.7-py2.py3-none-any.whl\n",
      "Installing collected packages: ipython-genutils, decorator, traitlets, simplegeneric, backports.shutil-get-terminal-size, ptyprocess, pexpect, scandir, pathlib2, pickleshare, backports.functools-lru-cache, wcwidth, prompt-toolkit, pygments, appnope, ipython, MarkupSafe, jinja2, jupyter-core, pyzmq, jupyter-client, ipykernel, configparser, contextlib2, zipp, importlib-metadata, attrs, functools32, pyrsistent, jsonschema, nbformat, pyparsing, packaging, webencodings, bleach, mistune, defusedxml, pandocfilters, testpath, entrypoints, nbconvert, Send2Trash, prometheus-client, terminado, notebook, widgetsnbextension, ipywidgets, pydeck, protobuf, tzlocal, click, pillow, enum-compat, base58, toolz, typing, pandas, altair, toml, validators, idna, chardet, certifi, urllib3, requests, docutils, jmespath, botocore, pathtools, watchdog, astor, s3transfer, boto3, blinker, streamlit\n",
      "\u001b[31mException:\n",
      "Traceback (most recent call last):\n",
      "  File \"/Library/Python/2.7/site-packages/pip-9.0.1-py2.7.egg/pip/basecommand.py\", line 215, in main\n",
      "    status = self.run(options, args)\n",
      "  File \"/Library/Python/2.7/site-packages/pip-9.0.1-py2.7.egg/pip/commands/install.py\", line 342, in run\n",
      "    prefix=options.prefix_path,\n",
      "  File \"/Library/Python/2.7/site-packages/pip-9.0.1-py2.7.egg/pip/req/req_set.py\", line 784, in install\n",
      "    **kwargs\n",
      "  File \"/Library/Python/2.7/site-packages/pip-9.0.1-py2.7.egg/pip/req/req_install.py\", line 851, in install\n",
      "    self.move_wheel_files(self.source_dir, root=root, prefix=prefix)\n",
      "  File \"/Library/Python/2.7/site-packages/pip-9.0.1-py2.7.egg/pip/req/req_install.py\", line 1064, in move_wheel_files\n",
      "    isolated=self.isolated,\n",
      "  File \"/Library/Python/2.7/site-packages/pip-9.0.1-py2.7.egg/pip/wheel.py\", line 345, in move_wheel_files\n",
      "    clobber(source, lib_dir, True)\n",
      "  File \"/Library/Python/2.7/site-packages/pip-9.0.1-py2.7.egg/pip/wheel.py\", line 316, in clobber\n",
      "    ensure_dir(destdir)\n",
      "  File \"/Library/Python/2.7/site-packages/pip-9.0.1-py2.7.egg/pip/utils/__init__.py\", line 83, in ensure_dir\n",
      "    os.makedirs(path)\n",
      "  File \"/System/Library/Frameworks/Python.framework/Versions/2.7/lib/python2.7/os.py\", line 157, in makedirs\n",
      "    mkdir(name, mode)\n",
      "OSError: [Errno 13] Permission denied: '/Library/Python/2.7/site-packages/ipython_genutils'\u001b[0m\n",
      "\u001b[33mYou are using pip version 9.0.1, however version 20.1.1 is available.\n",
      "You should consider upgrading via the 'pip install --upgrade pip' command.\u001b[0m\n"
     ]
    }
   ],
   "source": [
    "!pip install streamlit"
   ]
  },
  {
   "cell_type": "code",
   "execution_count": 3,
   "metadata": {},
   "outputs": [
    {
     "name": "stdout",
     "output_type": "stream",
     "text": [
      "Requirement already satisfied: flair in /Users/alexeynikitin/Library/Python/3.6/lib/python/site-packages\n",
      "Requirement already satisfied: segtok>=1.5.7 in /Users/alexeynikitin/Library/Python/3.6/lib/python/site-packages (from flair)\n",
      "Requirement already satisfied: torch>=1.1.0 in /Users/alexeynikitin/Library/Python/3.6/lib/python/site-packages (from flair)\n",
      "Requirement already satisfied: python-dateutil>=2.6.1 in /Library/Frameworks/Python.framework/Versions/3.6/lib/python3.6/site-packages (from flair)\n",
      "Requirement already satisfied: transformers>=2.10.0 in /Users/alexeynikitin/Library/Python/3.6/lib/python/site-packages (from flair)\n",
      "Requirement already satisfied: deprecated>=1.2.4 in /Users/alexeynikitin/Library/Python/3.6/lib/python/site-packages (from flair)\n",
      "Requirement already satisfied: tabulate in /Users/alexeynikitin/Library/Python/3.6/lib/python/site-packages (from flair)\n",
      "Requirement already satisfied: bpemb>=0.2.9 in /Users/alexeynikitin/Library/Python/3.6/lib/python/site-packages (from flair)\n",
      "Requirement already satisfied: scikit-learn>=0.21.3 in /Users/alexeynikitin/Library/Python/3.6/lib/python/site-packages (from flair)\n",
      "Requirement already satisfied: tqdm>=4.26.0 in /Users/alexeynikitin/Library/Python/3.6/lib/python/site-packages (from flair)\n",
      "Requirement already satisfied: gensim>=3.4.0 in /Users/alexeynikitin/Library/Python/3.6/lib/python/site-packages (from flair)\n",
      "Requirement already satisfied: mpld3==0.3 in /Users/alexeynikitin/Library/Python/3.6/lib/python/site-packages (from flair)\n",
      "Requirement already satisfied: sqlitedict>=1.6.0 in /Users/alexeynikitin/Library/Python/3.6/lib/python/site-packages (from flair)\n",
      "Requirement already satisfied: pytest>=5.3.2 in /Users/alexeynikitin/Library/Python/3.6/lib/python/site-packages (from flair)\n",
      "Requirement already satisfied: hyperopt>=0.1.1 in /Users/alexeynikitin/Library/Python/3.6/lib/python/site-packages (from flair)\n",
      "Requirement already satisfied: langdetect in /Users/alexeynikitin/Library/Python/3.6/lib/python/site-packages (from flair)\n",
      "Requirement already satisfied: regex in /Users/alexeynikitin/Library/Python/3.6/lib/python/site-packages (from flair)\n",
      "Requirement already satisfied: matplotlib>=2.2.3 in /Users/alexeynikitin/Library/Python/3.6/lib/python/site-packages (from flair)\n",
      "Requirement already satisfied: numpy in /Library/Frameworks/Python.framework/Versions/3.6/lib/python3.6/site-packages (from torch>=1.1.0->flair)\n",
      "Requirement already satisfied: future in /Users/alexeynikitin/Library/Python/3.6/lib/python/site-packages (from torch>=1.1.0->flair)\n",
      "Requirement already satisfied: six>=1.5 in /Library/Frameworks/Python.framework/Versions/3.6/lib/python3.6/site-packages (from python-dateutil>=2.6.1->flair)\n",
      "Requirement already satisfied: filelock in /Users/alexeynikitin/Library/Python/3.6/lib/python/site-packages (from transformers>=2.10.0->flair)\n",
      "Requirement already satisfied: tokenizers==0.7.0 in /Users/alexeynikitin/Library/Python/3.6/lib/python/site-packages (from transformers>=2.10.0->flair)\n",
      "Requirement already satisfied: requests in /Users/alexeynikitin/Library/Python/3.6/lib/python/site-packages (from transformers>=2.10.0->flair)\n",
      "Requirement already satisfied: packaging in /Users/alexeynikitin/Library/Python/3.6/lib/python/site-packages (from transformers>=2.10.0->flair)\n",
      "Requirement already satisfied: dataclasses; python_version < \"3.7\" in /Users/alexeynikitin/Library/Python/3.6/lib/python/site-packages (from transformers>=2.10.0->flair)\n",
      "Requirement already satisfied: sentencepiece in /Users/alexeynikitin/Library/Python/3.6/lib/python/site-packages (from transformers>=2.10.0->flair)\n",
      "Requirement already satisfied: sacremoses in /Users/alexeynikitin/Library/Python/3.6/lib/python/site-packages (from transformers>=2.10.0->flair)\n",
      "Requirement already satisfied: wrapt<2,>=1.10 in /Users/alexeynikitin/Library/Python/3.6/lib/python/site-packages (from deprecated>=1.2.4->flair)\n",
      "Requirement already satisfied: joblib>=0.11 in /Users/alexeynikitin/Library/Python/3.6/lib/python/site-packages (from scikit-learn>=0.21.3->flair)\n",
      "Requirement already satisfied: scipy>=0.19.1 in /Library/Frameworks/Python.framework/Versions/3.6/lib/python3.6/site-packages (from scikit-learn>=0.21.3->flair)\n",
      "Requirement already satisfied: threadpoolctl>=2.0.0 in /Users/alexeynikitin/Library/Python/3.6/lib/python/site-packages (from scikit-learn>=0.21.3->flair)\n",
      "Requirement already satisfied: smart-open>=1.8.1 in /Users/alexeynikitin/Library/Python/3.6/lib/python/site-packages (from gensim>=3.4.0->flair)\n",
      "Requirement already satisfied: more-itertools>=4.0.0 in /Users/alexeynikitin/Library/Python/3.6/lib/python/site-packages (from pytest>=5.3.2->flair)\n",
      "Requirement already satisfied: pluggy<1.0,>=0.12 in /Users/alexeynikitin/Library/Python/3.6/lib/python/site-packages (from pytest>=5.3.2->flair)\n",
      "Requirement already satisfied: wcwidth in /Users/alexeynikitin/Library/Python/3.6/lib/python/site-packages (from pytest>=5.3.2->flair)\n",
      "Requirement already satisfied: attrs>=17.4.0 in /Users/alexeynikitin/Library/Python/3.6/lib/python/site-packages (from pytest>=5.3.2->flair)\n",
      "Requirement already satisfied: importlib-metadata>=0.12; python_version < \"3.8\" in /Users/alexeynikitin/Library/Python/3.6/lib/python/site-packages (from pytest>=5.3.2->flair)\n",
      "Requirement already satisfied: py>=1.5.0 in /Users/alexeynikitin/Library/Python/3.6/lib/python/site-packages (from pytest>=5.3.2->flair)\n",
      "Requirement already satisfied: networkx>=2.2 in /Users/alexeynikitin/Library/Python/3.6/lib/python/site-packages (from hyperopt>=0.1.1->flair)\n",
      "Requirement already satisfied: cloudpickle in /Users/alexeynikitin/Library/Python/3.6/lib/python/site-packages (from hyperopt>=0.1.1->flair)\n",
      "Requirement already satisfied: cycler>=0.10 in /Library/Frameworks/Python.framework/Versions/3.6/lib/python3.6/site-packages (from matplotlib>=2.2.3->flair)\n",
      "Requirement already satisfied: kiwisolver>=1.0.1 in /Library/Frameworks/Python.framework/Versions/3.6/lib/python3.6/site-packages (from matplotlib>=2.2.3->flair)\n",
      "Requirement already satisfied: pyparsing!=2.0.4,!=2.1.2,!=2.1.6,>=2.0.1 in /Library/Frameworks/Python.framework/Versions/3.6/lib/python3.6/site-packages (from matplotlib>=2.2.3->flair)\n",
      "Requirement already satisfied: idna<3,>=2.5 in /Users/alexeynikitin/Library/Python/3.6/lib/python/site-packages (from requests->transformers>=2.10.0->flair)\n",
      "Requirement already satisfied: certifi>=2017.4.17 in /Users/alexeynikitin/Library/Python/3.6/lib/python/site-packages (from requests->transformers>=2.10.0->flair)\n",
      "Requirement already satisfied: chardet<4,>=3.0.2 in /Users/alexeynikitin/Library/Python/3.6/lib/python/site-packages (from requests->transformers>=2.10.0->flair)\n",
      "Requirement already satisfied: urllib3!=1.25.0,!=1.25.1,<1.26,>=1.21.1 in /Users/alexeynikitin/Library/Python/3.6/lib/python/site-packages (from requests->transformers>=2.10.0->flair)\n",
      "Requirement already satisfied: click in /Users/alexeynikitin/Library/Python/3.6/lib/python/site-packages (from sacremoses->transformers>=2.10.0->flair)\n",
      "Requirement already satisfied: boto3 in /Users/alexeynikitin/Library/Python/3.6/lib/python/site-packages (from smart-open>=1.8.1->gensim>=3.4.0->flair)\n",
      "Requirement already satisfied: boto in /Users/alexeynikitin/Library/Python/3.6/lib/python/site-packages (from smart-open>=1.8.1->gensim>=3.4.0->flair)\n",
      "Requirement already satisfied: zipp>=0.5 in /Users/alexeynikitin/Library/Python/3.6/lib/python/site-packages (from importlib-metadata>=0.12; python_version < \"3.8\"->pytest>=5.3.2->flair)\n",
      "Requirement already satisfied: decorator>=4.3.0 in /Users/alexeynikitin/Library/Python/3.6/lib/python/site-packages (from networkx>=2.2->hyperopt>=0.1.1->flair)\n",
      "Requirement already satisfied: setuptools in /Library/Frameworks/Python.framework/Versions/3.6/lib/python3.6/site-packages (from kiwisolver>=1.0.1->matplotlib>=2.2.3->flair)\n",
      "Requirement already satisfied: jmespath<1.0.0,>=0.7.1 in /Users/alexeynikitin/Library/Python/3.6/lib/python/site-packages (from boto3->smart-open>=1.8.1->gensim>=3.4.0->flair)\n",
      "Requirement already satisfied: s3transfer<0.4.0,>=0.3.0 in /Users/alexeynikitin/Library/Python/3.6/lib/python/site-packages (from boto3->smart-open>=1.8.1->gensim>=3.4.0->flair)\n",
      "Requirement already satisfied: botocore<1.17.0,>=1.16.24 in /Users/alexeynikitin/Library/Python/3.6/lib/python/site-packages (from boto3->smart-open>=1.8.1->gensim>=3.4.0->flair)\n",
      "Requirement already satisfied: docutils<0.16,>=0.10 in /Users/alexeynikitin/Library/Python/3.6/lib/python/site-packages (from botocore<1.17.0,>=1.16.24->boto3->smart-open>=1.8.1->gensim>=3.4.0->flair)\n"
     ]
    },
    {
     "name": "stdout",
     "output_type": "stream",
     "text": [
      "\u001b[33mYou are using pip version 9.0.1, however version 20.1.1 is available.\r\n",
      "You should consider upgrading via the 'pip install --upgrade pip' command.\u001b[0m\r\n"
     ]
    }
   ],
   "source": [
    "!pip3 install flair\n"
   ]
  },
  {
   "cell_type": "markdown",
   "metadata": {},
   "source": [
    "# Dataset\n",
    "For this task, we will use The Sentiment140. The Sentiment140 dataset is a collection of 1.6 million tweets labeled as 0, negative sentiment, or 4, positive sentiment.\n",
    "\n",
    "You can download it here https://www.kaggle.com/kazanova/sentiment140#training.1600000.processed.noemoticon.csv"
   ]
  },
  {
   "cell_type": "code",
   "execution_count": 1,
   "metadata": {},
   "outputs": [
    {
     "name": "stderr",
     "output_type": "stream",
     "text": [
      "I0608 21:10:15.329548 140734992141760 file_utils.py:39] PyTorch version 1.5.0 available.\n",
      "INFO: {'User-Agent': 'Mozilla/5.0 (Windows; U; Windows NT 6.1; x64; fr; rv:1.9.2.13) Gecko/20101203 Firebird/3.6.13'}\n",
      "I0608 21:10:17.703082 140734992141760 query.py:30] {'User-Agent': 'Mozilla/5.0 (Windows; U; Windows NT 6.1; x64; fr; rv:1.9.2.13) Gecko/20101203 Firebird/3.6.13'}\n"
     ]
    }
   ],
   "source": [
    "import pandas as pd\n",
    "import datetime as dt\n",
    "import streamlit as st\n",
    "\n",
    "\n",
    "import re\n",
    "import os\n",
    "\n",
    "from flair.datasets import ClassificationCorpus\n",
    "from flair.models import TextClassifier\n",
    "from flair.embeddings import WordEmbeddings, FlairEmbeddings\n",
    "from flair.embeddings import DocumentRNNEmbeddings\n",
    "from flair.trainers import ModelTrainer\n",
    "from flair.data import Sentence\n",
    "\n",
    "from pathlib import Path\n",
    "\n",
    "from twitterscraper import query_tweets"
   ]
  },
  {
   "cell_type": "code",
   "execution_count": 5,
   "metadata": {},
   "outputs": [],
   "source": [
    "__COL_NAMES__ = ['sentiment','id','date','query_string','user','text']\n",
    "__FILE__ = 'training.1600000.processed.noemoticon.csv'\n",
    "__ALLOWED_CHARS__ = ' AaBbCcDdEeFfGgHhIiJjKkLlMmNnOoPpQqRrSsTtUuVvWwXxYyZz0123456789~`!@#$%^&*()-=_+[]{}|;:\",./<>?'\n",
    "__PUNCTUC__ = '!?,.@#'\n",
    "__MAXLEN__ = 280\n",
    "__AMOUNT__ = 0.125"
   ]
  },
  {
   "cell_type": "code",
   "execution_count": 6,
   "metadata": {},
   "outputs": [],
   "source": [
    "tweet_data = pd.read_csv(\n",
    "    __FILE__, header=None, names=__COL_NAMES__, encoding=\"ISO-8859-1\"\n",
    ").sample(frac=1) # .sample(frac=1) shuffles the data"
   ]
  },
  {
   "cell_type": "code",
   "execution_count": 7,
   "metadata": {},
   "outputs": [
    {
     "data": {
      "text/html": [
       "<div>\n",
       "<style scoped>\n",
       "    .dataframe tbody tr th:only-of-type {\n",
       "        vertical-align: middle;\n",
       "    }\n",
       "\n",
       "    .dataframe tbody tr th {\n",
       "        vertical-align: top;\n",
       "    }\n",
       "\n",
       "    .dataframe thead th {\n",
       "        text-align: right;\n",
       "    }\n",
       "</style>\n",
       "<table border=\"1\" class=\"dataframe\">\n",
       "  <thead>\n",
       "    <tr style=\"text-align: right;\">\n",
       "      <th></th>\n",
       "      <th>sentiment</th>\n",
       "      <th>text</th>\n",
       "    </tr>\n",
       "  </thead>\n",
       "  <tbody>\n",
       "    <tr>\n",
       "      <th>350823</th>\n",
       "      <td>0</td>\n",
       "      <td>Got Brennon at the drs office. He's soooo skin...</td>\n",
       "    </tr>\n",
       "    <tr>\n",
       "      <th>472414</th>\n",
       "      <td>0</td>\n",
       "      <td>Someone help me. I'm too lazy to work today...</td>\n",
       "    </tr>\n",
       "    <tr>\n",
       "      <th>936430</th>\n",
       "      <td>4</td>\n",
       "      <td>@jepriy: thank u darling! glad ur shows went w...</td>\n",
       "    </tr>\n",
       "    <tr>\n",
       "      <th>305509</th>\n",
       "      <td>0</td>\n",
       "      <td>You have something awful, for the rest of your...</td>\n",
       "    </tr>\n",
       "    <tr>\n",
       "      <th>632255</th>\n",
       "      <td>0</td>\n",
       "      <td>I want to go back to school. I don't like this...</td>\n",
       "    </tr>\n",
       "  </tbody>\n",
       "</table>\n",
       "</div>"
      ],
      "text/plain": [
       "        sentiment                                               text\n",
       "350823          0  Got Brennon at the drs office. He's soooo skin...\n",
       "472414          0    Someone help me. I'm too lazy to work today... \n",
       "936430          4  @jepriy: thank u darling! glad ur shows went w...\n",
       "305509          0  You have something awful, for the rest of your...\n",
       "632255          0  I want to go back to school. I don't like this..."
      ]
     },
     "execution_count": 7,
     "metadata": {},
     "output_type": "execute_result"
    }
   ],
   "source": [
    "tweet_data = tweet_data[['sentiment', 'text']] # drop excess values \n",
    "tweet_data.head()"
   ]
  },
  {
   "cell_type": "markdown",
   "metadata": {},
   "source": [
    "## Data preprocessing \n",
    " the data is pretty messy. To fix this, we need to pre-process it."
   ]
  },
  {
   "cell_type": "code",
   "execution_count": 8,
   "metadata": {},
   "outputs": [],
   "source": [
    "def preprocess(text):\n",
    "    return ''.join(\n",
    "        [\n",
    "            ' ' + char + ' ' if char in __PUNCTUC__ else char for char in [\n",
    "                char for char in re.sub(r'http\\S+', 'http', text, flags=re.MULTILINE) if char in __ALLOWED_CHARS__\n",
    "            ]\n",
    "        ])[:__MAXLEN__]"
   ]
  },
  {
   "cell_type": "code",
   "execution_count": 9,
   "metadata": {},
   "outputs": [
    {
     "data": {
      "text/html": [
       "<div>\n",
       "<style scoped>\n",
       "    .dataframe tbody tr th:only-of-type {\n",
       "        vertical-align: middle;\n",
       "    }\n",
       "\n",
       "    .dataframe tbody tr th {\n",
       "        vertical-align: top;\n",
       "    }\n",
       "\n",
       "    .dataframe thead th {\n",
       "        text-align: right;\n",
       "    }\n",
       "</style>\n",
       "<table border=\"1\" class=\"dataframe\">\n",
       "  <thead>\n",
       "    <tr style=\"text-align: right;\">\n",
       "      <th></th>\n",
       "      <th>sentiment</th>\n",
       "      <th>text</th>\n",
       "    </tr>\n",
       "  </thead>\n",
       "  <tbody>\n",
       "    <tr>\n",
       "      <th>350823</th>\n",
       "      <td>0</td>\n",
       "      <td>Got Brennon at the drs office .  Hes soooo ski...</td>\n",
       "    </tr>\n",
       "    <tr>\n",
       "      <th>472414</th>\n",
       "      <td>0</td>\n",
       "      <td>Someone help me .  Im too lazy to work today ....</td>\n",
       "    </tr>\n",
       "    <tr>\n",
       "      <th>936430</th>\n",
       "      <td>4</td>\n",
       "      <td>@ jepriy: thank u darling !  glad ur shows we...</td>\n",
       "    </tr>\n",
       "    <tr>\n",
       "      <th>305509</th>\n",
       "      <td>0</td>\n",
       "      <td>You have something awful ,  for the rest of yo...</td>\n",
       "    </tr>\n",
       "    <tr>\n",
       "      <th>632255</th>\n",
       "      <td>0</td>\n",
       "      <td>I want to go back to school .  I dont like thi...</td>\n",
       "    </tr>\n",
       "  </tbody>\n",
       "</table>\n",
       "</div>"
      ],
      "text/plain": [
       "        sentiment                                               text\n",
       "350823          0  Got Brennon at the drs office .  Hes soooo ski...\n",
       "472414          0  Someone help me .  Im too lazy to work today ....\n",
       "936430          4   @ jepriy: thank u darling !  glad ur shows we...\n",
       "305509          0  You have something awful ,  for the rest of yo...\n",
       "632255          0  I want to go back to school .  I dont like thi..."
      ]
     },
     "execution_count": 9,
     "metadata": {},
     "output_type": "execute_result"
    }
   ],
   "source": [
    "# Apply the pre-processing function\n",
    "tweet_data['text'] = tweet_data['text'].apply(preprocess)\n",
    "tweet_data.head()"
   ]
  },
  {
   "cell_type": "code",
   "execution_count": 10,
   "metadata": {},
   "outputs": [],
   "source": [
    "# Putting  __label__ in front of each sentiment:\n",
    "tweet_data['sentiment'] = '__label__' + tweet_data['sentiment'].astype(str)"
   ]
  },
  {
   "cell_type": "markdown",
   "metadata": {},
   "source": [
    "## Save the pre-processed data "
   ]
  },
  {
   "cell_type": "code",
   "execution_count": 11,
   "metadata": {},
   "outputs": [],
   "source": [
    "# Create directory for saving data if it does not already exist\n",
    "data_dir = './processed-data'\n",
    "if not os.path.isdir(data_dir):\n",
    "    os.mkdir(data_dir)\n",
    "\n",
    "# Save a percentage of the data \n",
    "\n",
    "tweet_data.iloc[\n",
    "    0:int(len(tweet_data)*0.8*__AMOUNT__)\n",
    "].to_csv(data_dir + '/train.csv', sep='\\t', index=False, header=False)\n",
    "\n",
    "tweet_data.iloc[\n",
    "    int(len(tweet_data)*0.8*__AMOUNT__):int(len(tweet_data)*0.9*__AMOUNT__)\n",
    "].to_csv(data_dir + '/test.csv', sep='\\t', index=False, header=False)\n",
    "\n",
    "tweet_data.iloc[\n",
    "    int(len(tweet_data)*0.9*__AMOUNT__):int(len(tweet_data)*1.0*__AMOUNT__)\n",
    "].to_csv(data_dir + '/dev.csv', sep='\\t', index=False, header=False)"
   ]
  },
  {
   "cell_type": "code",
   "execution_count": 12,
   "metadata": {},
   "outputs": [
    {
     "name": "stdout",
     "output_type": "stream",
     "text": [
      "2020-06-07 22:49:28,808 Reading data from processed-data\n",
      "2020-06-07 22:49:28,811 Train: processed-data/train.csv\n",
      "2020-06-07 22:49:28,813 Dev: processed-data/dev.csv\n",
      "2020-06-07 22:49:28,814 Test: processed-data/test.csv\n"
     ]
    }
   ],
   "source": [
    "corpus = ClassificationCorpus(Path(data_dir), test_file='test.csv', dev_file='dev.csv', train_file='train.csv')\n"
   ]
  },
  {
   "cell_type": "code",
   "execution_count": 13,
   "metadata": {},
   "outputs": [
    {
     "name": "stdout",
     "output_type": "stream",
     "text": [
      "2020-06-07 22:49:32,549 Computing label dictionary. Progress:\n"
     ]
    },
    {
     "name": "stderr",
     "output_type": "stream",
     "text": [
      "100%|██████████| 180000/180000 [02:08<00:00, 1398.06it/s]"
     ]
    },
    {
     "name": "stdout",
     "output_type": "stream",
     "text": [
      "2020-06-07 22:51:41,469 [b'0', b'4']\n"
     ]
    },
    {
     "name": "stderr",
     "output_type": "stream",
     "text": [
      "\n"
     ]
    }
   ],
   "source": [
    "label_dict = corpus.make_label_dictionary()\n"
   ]
  },
  {
   "cell_type": "code",
   "execution_count": 14,
   "metadata": {},
   "outputs": [
    {
     "name": "stdout",
     "output_type": "stream",
     "text": [
      "2020-06-07 22:51:42,006 https://s3.eu-central-1.amazonaws.com/alan-nlp/resources/embeddings/glove.gensim.vectors.npy not found in cache, downloading to /var/folders/q_/pxp660rx3r92hhbtgv70dgnr0000gn/T/tmpnvd5fabp\n"
     ]
    },
    {
     "name": "stderr",
     "output_type": "stream",
     "text": [
      "100%|██████████| 160000128/160000128 [00:37<00:00, 4297491.91B/s]"
     ]
    },
    {
     "name": "stdout",
     "output_type": "stream",
     "text": [
      "2020-06-07 22:52:19,674 copying /var/folders/q_/pxp660rx3r92hhbtgv70dgnr0000gn/T/tmpnvd5fabp to cache at /Users/alexeynikitin/.flair/embeddings/glove.gensim.vectors.npy\n"
     ]
    },
    {
     "name": "stderr",
     "output_type": "stream",
     "text": [
      "\n"
     ]
    },
    {
     "name": "stdout",
     "output_type": "stream",
     "text": [
      "2020-06-07 22:52:20,326 removing temp file /var/folders/q_/pxp660rx3r92hhbtgv70dgnr0000gn/T/tmpnvd5fabp\n",
      "2020-06-07 22:52:20,776 https://s3.eu-central-1.amazonaws.com/alan-nlp/resources/embeddings/glove.gensim not found in cache, downloading to /var/folders/q_/pxp660rx3r92hhbtgv70dgnr0000gn/T/tmpl0qru560\n"
     ]
    },
    {
     "name": "stderr",
     "output_type": "stream",
     "text": [
      "100%|██████████| 21494764/21494764 [00:06<00:00, 3525327.99B/s]"
     ]
    },
    {
     "name": "stdout",
     "output_type": "stream",
     "text": [
      "2020-06-07 22:52:27,372 copying /var/folders/q_/pxp660rx3r92hhbtgv70dgnr0000gn/T/tmpl0qru560 to cache at /Users/alexeynikitin/.flair/embeddings/glove.gensim\n",
      "2020-06-07 22:52:27,442 removing temp file /var/folders/q_/pxp660rx3r92hhbtgv70dgnr0000gn/T/tmpl0qru560\n"
     ]
    },
    {
     "name": "stderr",
     "output_type": "stream",
     "text": [
      "\n",
      "I0607 22:52:27.447204 140734959541696 utils.py:431] loading Word2VecKeyedVectors object from /Users/alexeynikitin/.flair/embeddings/glove.gensim\n",
      "I0607 22:52:29.151106 140734959541696 utils.py:470] loading vectors from /Users/alexeynikitin/.flair/embeddings/glove.gensim.vectors.npy with mmap=None\n",
      "I0607 22:52:29.458882 140734959541696 utils.py:503] setting ignored attribute vectors_norm to None\n",
      "I0607 22:52:29.460107 140734959541696 utils.py:437] loaded /Users/alexeynikitin/.flair/embeddings/glove.gensim\n"
     ]
    }
   ],
   "source": [
    "word_embeddings = [WordEmbeddings('glove')]"
   ]
  },
  {
   "cell_type": "code",
   "execution_count": 15,
   "metadata": {},
   "outputs": [],
   "source": [
    "document_embeddings = DocumentRNNEmbeddings(word_embeddings, hidden_size=512, reproject_words=True, reproject_words_dimension=256)"
   ]
  },
  {
   "cell_type": "code",
   "execution_count": 16,
   "metadata": {},
   "outputs": [],
   "source": [
    "classifier = TextClassifier(document_embeddings, label_dictionary=label_dict)"
   ]
  },
  {
   "cell_type": "code",
   "execution_count": 17,
   "metadata": {},
   "outputs": [],
   "source": [
    "trainer = ModelTrainer(classifier, corpus)\n"
   ]
  },
  {
   "cell_type": "code",
   "execution_count": null,
   "metadata": {
    "scrolled": true
   },
   "outputs": [
    {
     "name": "stdout",
     "output_type": "stream",
     "text": [
      "2020-06-07 22:52:29,568 ----------------------------------------------------------------------------------------------------\n",
      "2020-06-07 22:52:29,570 Model: \"TextClassifier(\n",
      "  (document_embeddings): DocumentRNNEmbeddings(\n",
      "    (embeddings): StackedEmbeddings(\n",
      "      (list_embedding_0): WordEmbeddings('glove')\n",
      "    )\n",
      "    (word_reprojection_map): Linear(in_features=100, out_features=256, bias=True)\n",
      "    (rnn): GRU(256, 512, batch_first=True)\n",
      "    (dropout): Dropout(p=0.5, inplace=False)\n",
      "  )\n",
      "  (decoder): Linear(in_features=512, out_features=2, bias=True)\n",
      "  (loss_function): CrossEntropyLoss()\n",
      "  (beta): 1.0\n",
      "  (weights): None\n",
      "  (weight_tensor) None\n",
      ")\"\n",
      "2020-06-07 22:52:29,573 ----------------------------------------------------------------------------------------------------\n",
      "2020-06-07 22:52:29,575 Corpus: \"Corpus: 160000 train + 20000 dev + 20000 test sentences\"\n",
      "2020-06-07 22:52:29,578 ----------------------------------------------------------------------------------------------------\n",
      "2020-06-07 22:52:29,579 Parameters:\n",
      "2020-06-07 22:52:29,582  - learning_rate: \"0.1\"\n",
      "2020-06-07 22:52:29,585  - mini_batch_size: \"32\"\n",
      "2020-06-07 22:52:29,587  - patience: \"8\"\n",
      "2020-06-07 22:52:29,589  - anneal_factor: \"0.5\"\n",
      "2020-06-07 22:52:29,590  - max_epochs: \"200\"\n",
      "2020-06-07 22:52:29,593  - shuffle: \"True\"\n",
      "2020-06-07 22:52:29,595  - train_with_dev: \"False\"\n",
      "2020-06-07 22:52:29,597  - batch_growth_annealing: \"False\"\n",
      "2020-06-07 22:52:29,600 ----------------------------------------------------------------------------------------------------\n",
      "2020-06-07 22:52:29,602 Model training base path: \"model-saves\"\n",
      "2020-06-07 22:52:29,604 ----------------------------------------------------------------------------------------------------\n",
      "2020-06-07 22:52:29,607 Device: cpu\n",
      "2020-06-07 22:52:29,609 ----------------------------------------------------------------------------------------------------\n",
      "2020-06-07 22:52:29,611 Embeddings storage mode: cpu\n",
      "2020-06-07 22:52:29,644 ----------------------------------------------------------------------------------------------------\n",
      "2020-06-07 22:55:37,028 epoch 1 - iter 500/5000 - loss 0.67744871 - samples/sec: 88.20\n",
      "2020-06-07 22:58:27,736 epoch 1 - iter 1000/5000 - loss 0.66394398 - samples/sec: 96.74\n",
      "2020-06-07 23:01:38,714 epoch 1 - iter 1500/5000 - loss 0.65663886 - samples/sec: 86.49\n",
      "2020-06-07 23:05:21,521 epoch 1 - iter 2000/5000 - loss 0.65113329 - samples/sec: 73.87\n",
      "2020-06-07 23:09:03,966 epoch 1 - iter 2500/5000 - loss 0.64664319 - samples/sec: 74.15\n",
      "2020-06-07 23:12:02,723 epoch 1 - iter 3000/5000 - loss 0.64297166 - samples/sec: 92.29\n",
      "2020-06-07 23:15:04,845 epoch 1 - iter 3500/5000 - loss 0.63948416 - samples/sec: 90.56\n",
      "2020-06-07 23:18:06,690 epoch 1 - iter 4000/5000 - loss 0.63619353 - samples/sec: 90.58\n",
      "2020-06-07 23:21:10,368 epoch 1 - iter 4500/5000 - loss 0.63302136 - samples/sec: 89.83\n",
      "2020-06-07 23:24:10,835 epoch 1 - iter 5000/5000 - loss 0.62976419 - samples/sec: 91.45\n",
      "2020-06-07 23:24:10,997 ----------------------------------------------------------------------------------------------------\n",
      "2020-06-07 23:24:10,998 EPOCH 1 done: loss 0.6298 - lr 0.1000000\n",
      "2020-06-07 23:24:55,837 DEV : loss 0.6058600544929504 - score 0.6773\n",
      "2020-06-07 23:25:16,824 BAD EPOCHS (no improvement): 0\n",
      "saving best model\n",
      "2020-06-07 23:25:23,606 ----------------------------------------------------------------------------------------------------\n",
      "2020-06-07 23:28:21,592 epoch 2 - iter 500/5000 - loss 0.59499106 - samples/sec: 92.80\n",
      "2020-06-07 23:31:18,375 epoch 2 - iter 1000/5000 - loss 0.59475234 - samples/sec: 93.24\n",
      "2020-06-07 23:33:57,792 epoch 2 - iter 1500/5000 - loss 0.59508976 - samples/sec: 103.66\n",
      "2020-06-07 23:36:38,930 epoch 2 - iter 2000/5000 - loss 0.59479486 - samples/sec: 102.21\n",
      "2020-06-07 23:39:23,133 epoch 2 - iter 2500/5000 - loss 0.59351058 - samples/sec: 100.61\n",
      "2020-06-07 23:42:07,073 epoch 2 - iter 3000/5000 - loss 0.59199090 - samples/sec: 100.53\n",
      "2020-06-07 23:44:48,843 epoch 2 - iter 3500/5000 - loss 0.58999605 - samples/sec: 101.62\n",
      "2020-06-07 23:47:29,142 epoch 2 - iter 4000/5000 - loss 0.58758815 - samples/sec: 102.85\n",
      "2020-06-07 23:50:10,135 epoch 2 - iter 4500/5000 - loss 0.58628960 - samples/sec: 102.09\n",
      "2020-06-07 23:52:51,891 epoch 2 - iter 5000/5000 - loss 0.58602359 - samples/sec: 101.91\n",
      "2020-06-07 23:52:52,038 ----------------------------------------------------------------------------------------------------\n",
      "2020-06-07 23:52:52,040 EPOCH 2 done: loss 0.5860 - lr 0.1000000\n",
      "2020-06-07 23:53:32,750 DEV : loss 0.5532187223434448 - score 0.7139\n",
      "2020-06-07 23:53:53,317 BAD EPOCHS (no improvement): 0\n",
      "saving best model\n",
      "2020-06-07 23:53:59,839 ----------------------------------------------------------------------------------------------------\n",
      "2020-06-07 23:56:41,881 epoch 3 - iter 500/5000 - loss 0.56343295 - samples/sec: 101.87\n",
      "2020-06-07 23:59:24,043 epoch 3 - iter 1000/5000 - loss 0.56757895 - samples/sec: 101.63\n",
      "2020-06-08 00:02:03,967 epoch 3 - iter 1500/5000 - loss 0.57014757 - samples/sec: 102.79\n",
      "2020-06-08 00:04:46,362 epoch 3 - iter 2000/5000 - loss 0.57065462 - samples/sec: 101.49\n",
      "2020-06-08 00:07:26,845 epoch 3 - iter 2500/5000 - loss 0.57011605 - samples/sec: 102.43\n",
      "2020-06-08 00:10:07,406 epoch 3 - iter 3000/5000 - loss 0.56961913 - samples/sec: 102.68\n",
      "2020-06-08 00:12:47,385 epoch 3 - iter 3500/5000 - loss 0.56887705 - samples/sec: 102.75\n",
      "2020-06-08 00:15:31,943 epoch 3 - iter 4000/5000 - loss 0.56874739 - samples/sec: 100.18\n",
      "2020-06-08 00:18:15,839 epoch 3 - iter 4500/5000 - loss 0.56838213 - samples/sec: 100.62\n",
      "2020-06-08 00:21:01,982 epoch 3 - iter 5000/5000 - loss 0.56776022 - samples/sec: 98.99\n",
      "2020-06-08 00:21:02,132 ----------------------------------------------------------------------------------------------------\n",
      "2020-06-08 00:21:02,133 EPOCH 3 done: loss 0.5678 - lr 0.1000000\n",
      "2020-06-08 00:21:42,552 DEV : loss 0.5190784931182861 - score 0.7462\n",
      "2020-06-08 00:22:03,193 BAD EPOCHS (no improvement): 0\n",
      "saving best model\n",
      "2020-06-08 00:22:09,771 ----------------------------------------------------------------------------------------------------\n",
      "2020-06-08 00:24:50,350 epoch 4 - iter 500/5000 - loss 0.55913456 - samples/sec: 102.85\n",
      "2020-06-08 00:27:30,975 epoch 4 - iter 1000/5000 - loss 0.55897268 - samples/sec: 102.45\n",
      "2020-06-08 00:30:20,171 epoch 4 - iter 1500/5000 - loss 0.55905356 - samples/sec: 97.41\n",
      "2020-06-08 00:33:04,087 epoch 4 - iter 2000/5000 - loss 0.55931800 - samples/sec: 100.34\n",
      "2020-06-08 00:35:55,935 epoch 4 - iter 2500/5000 - loss 0.55921690 - samples/sec: 95.84\n",
      "2020-06-08 00:38:38,592 epoch 4 - iter 3000/5000 - loss 0.55967697 - samples/sec: 101.11\n",
      "2020-06-08 00:41:24,413 epoch 4 - iter 3500/5000 - loss 0.55927537 - samples/sec: 99.45\n",
      "2020-06-08 00:44:13,741 epoch 4 - iter 4000/5000 - loss 0.55933307 - samples/sec: 97.05\n",
      "2020-06-08 00:47:00,539 epoch 4 - iter 4500/5000 - loss 0.55807008 - samples/sec: 98.81\n",
      "2020-06-08 00:49:49,445 epoch 4 - iter 5000/5000 - loss 0.55755979 - samples/sec: 97.30\n",
      "2020-06-08 00:49:49,600 ----------------------------------------------------------------------------------------------------\n",
      "2020-06-08 00:49:49,602 EPOCH 4 done: loss 0.5576 - lr 0.1000000\n",
      "2020-06-08 00:50:34,338 DEV : loss 0.5159797072410583 - score 0.7473\n",
      "2020-06-08 00:50:54,996 BAD EPOCHS (no improvement): 0\n",
      "saving best model\n",
      "2020-06-08 00:51:01,542 ----------------------------------------------------------------------------------------------------\n",
      "2020-06-08 00:53:45,678 epoch 5 - iter 500/5000 - loss 0.55435097 - samples/sec: 100.54\n",
      "2020-06-08 00:56:30,989 epoch 5 - iter 1000/5000 - loss 0.55183628 - samples/sec: 99.45\n",
      "2020-06-08 00:59:14,024 epoch 5 - iter 1500/5000 - loss 0.55093861 - samples/sec: 101.19\n",
      "2020-06-08 01:02:00,066 epoch 5 - iter 2000/5000 - loss 0.55023637 - samples/sec: 98.95\n",
      "2020-06-08 01:04:47,122 epoch 5 - iter 2500/5000 - loss 0.55004098 - samples/sec: 98.64\n",
      "2020-06-08 01:07:32,901 epoch 5 - iter 3000/5000 - loss 0.54994018 - samples/sec: 99.48\n",
      "2020-06-08 01:10:20,325 epoch 5 - iter 3500/5000 - loss 0.54934211 - samples/sec: 98.16\n",
      "2020-06-08 01:13:04,140 epoch 5 - iter 4000/5000 - loss 0.54894599 - samples/sec: 100.65\n",
      "2020-06-08 01:15:52,053 epoch 5 - iter 4500/5000 - loss 0.54862107 - samples/sec: 97.95\n"
     ]
    },
    {
     "name": "stdout",
     "output_type": "stream",
     "text": [
      "2020-06-08 01:18:36,281 epoch 5 - iter 5000/5000 - loss 0.54891650 - samples/sec: 100.39\n",
      "2020-06-08 01:18:36,425 ----------------------------------------------------------------------------------------------------\n",
      "2020-06-08 01:18:36,426 EPOCH 5 done: loss 0.5489 - lr 0.1000000\n",
      "2020-06-08 01:19:17,865 DEV : loss 0.49200209975242615 - score 0.7604\n",
      "2020-06-08 01:19:38,911 BAD EPOCHS (no improvement): 0\n",
      "saving best model\n",
      "2020-06-08 01:19:45,501 ----------------------------------------------------------------------------------------------------\n",
      "2020-06-08 01:22:26,523 epoch 6 - iter 500/5000 - loss 0.54743016 - samples/sec: 102.62\n",
      "2020-06-08 01:25:14,157 epoch 6 - iter 1000/5000 - loss 0.54405297 - samples/sec: 98.06\n",
      "2020-06-08 01:28:00,239 epoch 6 - iter 1500/5000 - loss 0.54169490 - samples/sec: 99.01\n",
      "2020-06-08 01:30:46,153 epoch 6 - iter 2000/5000 - loss 0.53993040 - samples/sec: 99.11\n",
      "2020-06-08 01:33:31,375 epoch 6 - iter 2500/5000 - loss 0.54171647 - samples/sec: 99.81\n",
      "2020-06-08 01:36:16,589 epoch 6 - iter 3000/5000 - loss 0.54176132 - samples/sec: 99.55\n",
      "2020-06-08 01:38:59,550 epoch 6 - iter 3500/5000 - loss 0.54177594 - samples/sec: 100.93\n",
      "2020-06-08 01:41:46,180 epoch 6 - iter 4000/5000 - loss 0.54141258 - samples/sec: 98.75\n",
      "2020-06-08 01:44:30,128 epoch 6 - iter 4500/5000 - loss 0.54168649 - samples/sec: 100.65\n",
      "2020-06-08 01:47:15,343 epoch 6 - iter 5000/5000 - loss 0.54189853 - samples/sec: 99.61\n",
      "2020-06-08 01:47:15,493 ----------------------------------------------------------------------------------------------------\n",
      "2020-06-08 01:47:15,494 EPOCH 6 done: loss 0.5419 - lr 0.1000000\n",
      "2020-06-08 01:47:56,222 DEV : loss 0.49856996536254883 - score 0.7565\n",
      "2020-06-08 01:48:16,840 BAD EPOCHS (no improvement): 1\n",
      "2020-06-08 01:48:16,844 ----------------------------------------------------------------------------------------------------\n",
      "2020-06-08 01:50:54,915 epoch 7 - iter 500/5000 - loss 0.53952634 - samples/sec: 104.79\n",
      "2020-06-08 01:53:37,138 epoch 7 - iter 1000/5000 - loss 0.54257053 - samples/sec: 101.59\n",
      "2020-06-08 01:56:25,210 epoch 7 - iter 1500/5000 - loss 0.54212145 - samples/sec: 98.22\n",
      "2020-06-08 01:59:09,774 epoch 7 - iter 2000/5000 - loss 0.54082176 - samples/sec: 100.29\n",
      "2020-06-08 02:01:52,080 epoch 7 - iter 2500/5000 - loss 0.53928937 - samples/sec: 101.63\n",
      "2020-06-08 02:04:36,226 epoch 7 - iter 3000/5000 - loss 0.53906172 - samples/sec: 100.36\n",
      "2020-06-08 02:07:20,955 epoch 7 - iter 3500/5000 - loss 0.53887796 - samples/sec: 100.04\n",
      "2020-06-08 02:10:05,544 epoch 7 - iter 4000/5000 - loss 0.53831374 - samples/sec: 100.09\n",
      "2020-06-08 02:12:49,761 epoch 7 - iter 4500/5000 - loss 0.53906434 - samples/sec: 100.34\n",
      "2020-06-08 02:15:36,395 epoch 7 - iter 5000/5000 - loss 0.53903516 - samples/sec: 98.87\n",
      "2020-06-08 02:15:36,553 ----------------------------------------------------------------------------------------------------\n",
      "2020-06-08 02:15:36,555 EPOCH 7 done: loss 0.5390 - lr 0.1000000\n",
      "2020-06-08 02:16:16,928 DEV : loss 0.4787394404411316 - score 0.7693\n",
      "2020-06-08 02:16:37,527 BAD EPOCHS (no improvement): 0\n",
      "saving best model\n",
      "2020-06-08 02:16:44,036 ----------------------------------------------------------------------------------------------------\n",
      "2020-06-08 02:19:25,475 epoch 8 - iter 500/5000 - loss 0.53698227 - samples/sec: 102.06\n",
      "2020-06-08 02:22:09,299 epoch 8 - iter 1000/5000 - loss 0.53510917 - samples/sec: 100.69\n",
      "2020-06-08 02:24:54,044 epoch 8 - iter 1500/5000 - loss 0.53764968 - samples/sec: 99.79\n",
      "2020-06-08 02:27:38,222 epoch 8 - iter 2000/5000 - loss 0.53761121 - samples/sec: 100.16\n",
      "2020-06-08 02:30:20,924 epoch 8 - iter 2500/5000 - loss 0.53658523 - samples/sec: 101.34\n",
      "2020-06-08 02:33:01,864 epoch 8 - iter 3000/5000 - loss 0.53691842 - samples/sec: 102.27\n",
      "2020-06-08 02:35:45,486 epoch 8 - iter 3500/5000 - loss 0.53690846 - samples/sec: 100.53\n",
      "2020-06-08 02:38:26,235 epoch 8 - iter 4000/5000 - loss 0.53663797 - samples/sec: 102.64\n",
      "2020-06-08 02:41:09,895 epoch 8 - iter 4500/5000 - loss 0.53628576 - samples/sec: 100.45\n",
      "2020-06-08 02:43:53,565 epoch 8 - iter 5000/5000 - loss 0.53531208 - samples/sec: 100.46\n",
      "2020-06-08 02:43:53,709 ----------------------------------------------------------------------------------------------------\n",
      "2020-06-08 02:43:53,711 EPOCH 8 done: loss 0.5353 - lr 0.1000000\n",
      "2020-06-08 02:44:38,189 DEV : loss 0.4782407581806183 - score 0.7706\n",
      "2020-06-08 02:44:58,853 BAD EPOCHS (no improvement): 0\n",
      "saving best model\n",
      "2020-06-08 02:45:05,400 ----------------------------------------------------------------------------------------------------\n",
      "2020-06-08 02:47:45,044 epoch 9 - iter 500/5000 - loss 0.53091103 - samples/sec: 103.19\n",
      "2020-06-08 02:50:25,325 epoch 9 - iter 1000/5000 - loss 0.53383644 - samples/sec: 102.91\n",
      "2020-06-08 02:53:05,648 epoch 9 - iter 1500/5000 - loss 0.53277352 - samples/sec: 102.55\n",
      "2020-06-08 02:55:46,611 epoch 9 - iter 2000/5000 - loss 0.53337462 - samples/sec: 102.18\n",
      "2020-06-08 02:58:26,578 epoch 9 - iter 2500/5000 - loss 0.53252522 - samples/sec: 103.11\n",
      "2020-06-08 03:01:09,067 epoch 9 - iter 3000/5000 - loss 0.53309928 - samples/sec: 101.19\n",
      "2020-06-08 03:03:50,573 epoch 9 - iter 3500/5000 - loss 0.53270183 - samples/sec: 101.83\n",
      "2020-06-08 03:06:28,984 epoch 9 - iter 4000/5000 - loss 0.53247054 - samples/sec: 103.85\n",
      "2020-06-08 03:09:07,540 epoch 9 - iter 4500/5000 - loss 0.53259555 - samples/sec: 104.02\n",
      "2020-06-08 03:11:47,392 epoch 9 - iter 5000/5000 - loss 0.53233227 - samples/sec: 102.90\n",
      "2020-06-08 03:11:47,552 ----------------------------------------------------------------------------------------------------\n",
      "2020-06-08 03:11:47,553 EPOCH 9 done: loss 0.5323 - lr 0.1000000\n",
      "2020-06-08 03:12:27,978 DEV : loss 0.5188447833061218 - score 0.7428\n",
      "2020-06-08 03:12:48,909 BAD EPOCHS (no improvement): 1\n",
      "2020-06-08 03:12:48,913 ----------------------------------------------------------------------------------------------------\n",
      "2020-06-08 03:15:30,130 epoch 10 - iter 500/5000 - loss 0.53083198 - samples/sec: 102.19\n",
      "2020-06-08 03:18:10,244 epoch 10 - iter 1000/5000 - loss 0.52985829 - samples/sec: 102.93\n",
      "2020-06-08 03:20:51,426 epoch 10 - iter 1500/5000 - loss 0.53052040 - samples/sec: 102.24\n",
      "2020-06-08 03:23:29,380 epoch 10 - iter 2000/5000 - loss 0.53097181 - samples/sec: 104.38\n",
      "2020-06-08 03:26:14,303 epoch 10 - iter 2500/5000 - loss 0.53049261 - samples/sec: 99.88\n",
      "2020-06-08 03:28:59,991 epoch 10 - iter 3000/5000 - loss 0.53040091 - samples/sec: 99.47\n",
      "2020-06-08 03:31:49,092 epoch 10 - iter 3500/5000 - loss 0.52988881 - samples/sec: 97.41\n",
      "2020-06-08 03:34:38,985 epoch 10 - iter 4000/5000 - loss 0.52971525 - samples/sec: 96.77\n",
      "2020-06-08 03:37:26,482 epoch 10 - iter 4500/5000 - loss 0.52939633 - samples/sec: 98.38\n",
      "2020-06-08 03:40:19,510 epoch 10 - iter 5000/5000 - loss 0.52920709 - samples/sec: 95.35\n",
      "2020-06-08 03:40:19,661 ----------------------------------------------------------------------------------------------------\n",
      "2020-06-08 03:40:19,662 EPOCH 10 done: loss 0.5292 - lr 0.1000000\n",
      "2020-06-08 03:41:01,169 DEV : loss 0.48230957984924316 - score 0.7648\n",
      "2020-06-08 03:41:21,836 BAD EPOCHS (no improvement): 2\n",
      "2020-06-08 03:41:21,840 ----------------------------------------------------------------------------------------------------\n",
      "2020-06-08 03:44:06,677 epoch 11 - iter 500/5000 - loss 0.52355087 - samples/sec: 100.11\n",
      "2020-06-08 03:46:57,820 epoch 11 - iter 1000/5000 - loss 0.52599178 - samples/sec: 96.16\n",
      "2020-06-08 03:49:47,205 epoch 11 - iter 1500/5000 - loss 0.52530387 - samples/sec: 97.46\n",
      "2020-06-08 03:52:40,851 epoch 11 - iter 2000/5000 - loss 0.52686487 - samples/sec: 95.18\n",
      "2020-06-08 03:55:32,946 epoch 11 - iter 2500/5000 - loss 0.52719306 - samples/sec: 95.83\n",
      "2020-06-08 03:58:25,577 epoch 11 - iter 3000/5000 - loss 0.52709491 - samples/sec: 95.52\n",
      "2020-06-08 04:01:16,259 epoch 11 - iter 3500/5000 - loss 0.52712577 - samples/sec: 96.30\n",
      "2020-06-08 04:04:07,534 epoch 11 - iter 4000/5000 - loss 0.52690062 - samples/sec: 96.19\n",
      "2020-06-08 04:07:04,087 epoch 11 - iter 4500/5000 - loss 0.52714533 - samples/sec: 93.08\n",
      "2020-06-08 04:09:56,448 epoch 11 - iter 5000/5000 - loss 0.52714559 - samples/sec: 95.61\n",
      "2020-06-08 04:09:56,597 ----------------------------------------------------------------------------------------------------\n"
     ]
    },
    {
     "name": "stdout",
     "output_type": "stream",
     "text": [
      "2020-06-08 04:09:56,598 EPOCH 11 done: loss 0.5271 - lr 0.1000000\n",
      "2020-06-08 04:10:38,377 DEV : loss 0.4777309000492096 - score 0.7704\n",
      "2020-06-08 04:10:59,260 BAD EPOCHS (no improvement): 3\n",
      "2020-06-08 04:10:59,264 ----------------------------------------------------------------------------------------------------\n",
      "2020-06-08 04:13:47,532 epoch 12 - iter 500/5000 - loss 0.52380759 - samples/sec: 97.82\n",
      "2020-06-08 04:16:42,579 epoch 12 - iter 1000/5000 - loss 0.52881437 - samples/sec: 94.06\n",
      "2020-06-08 04:19:36,550 epoch 12 - iter 1500/5000 - loss 0.52719967 - samples/sec: 94.40\n",
      "2020-06-08 04:22:26,610 epoch 12 - iter 2000/5000 - loss 0.52649859 - samples/sec: 96.66\n",
      "2020-06-08 04:25:24,821 epoch 12 - iter 2500/5000 - loss 0.52717936 - samples/sec: 92.37\n",
      "2020-06-08 04:28:26,071 epoch 12 - iter 3000/5000 - loss 0.52575094 - samples/sec: 91.08\n",
      "2020-06-08 04:31:21,460 epoch 12 - iter 3500/5000 - loss 0.52566082 - samples/sec: 93.72\n",
      "2020-06-08 04:34:15,980 epoch 12 - iter 4000/5000 - loss 0.52519323 - samples/sec: 94.48\n",
      "2020-06-08 04:37:10,884 epoch 12 - iter 4500/5000 - loss 0.52577307 - samples/sec: 94.00\n",
      "2020-06-08 04:40:06,715 epoch 12 - iter 5000/5000 - loss 0.52516818 - samples/sec: 93.46\n",
      "2020-06-08 04:40:06,923 ----------------------------------------------------------------------------------------------------\n",
      "2020-06-08 04:40:06,925 EPOCH 12 done: loss 0.5252 - lr 0.1000000\n",
      "2020-06-08 04:40:49,630 DEV : loss 0.4716411530971527 - score 0.7751\n",
      "2020-06-08 04:41:10,275 BAD EPOCHS (no improvement): 0\n",
      "saving best model\n",
      "2020-06-08 04:41:16,928 ----------------------------------------------------------------------------------------------------\n",
      "2020-06-08 04:44:11,965 epoch 13 - iter 500/5000 - loss 0.52340321 - samples/sec: 94.31\n",
      "2020-06-08 04:47:08,289 epoch 13 - iter 1000/5000 - loss 0.52287803 - samples/sec: 93.52\n",
      "2020-06-08 04:50:02,448 epoch 13 - iter 1500/5000 - loss 0.52371273 - samples/sec: 94.34\n",
      "2020-06-08 04:52:58,362 epoch 13 - iter 2000/5000 - loss 0.52582323 - samples/sec: 93.66\n",
      "2020-06-08 04:55:56,012 epoch 13 - iter 2500/5000 - loss 0.52491795 - samples/sec: 92.58\n",
      "2020-06-08 04:58:53,918 epoch 13 - iter 3000/5000 - loss 0.52528699 - samples/sec: 92.36\n",
      "2020-06-08 05:01:49,897 epoch 13 - iter 3500/5000 - loss 0.52461184 - samples/sec: 93.63\n",
      "2020-06-08 05:04:45,739 epoch 13 - iter 4000/5000 - loss 0.52384632 - samples/sec: 93.51\n",
      "2020-06-08 05:07:41,804 epoch 13 - iter 4500/5000 - loss 0.52395349 - samples/sec: 93.38\n",
      "2020-06-08 05:10:45,856 epoch 13 - iter 5000/5000 - loss 0.52300639 - samples/sec: 89.44\n",
      "2020-06-08 05:10:46,002 ----------------------------------------------------------------------------------------------------\n",
      "2020-06-08 05:10:46,003 EPOCH 13 done: loss 0.5230 - lr 0.1000000\n",
      "2020-06-08 05:11:28,658 DEV : loss 0.4587859809398651 - score 0.7833\n",
      "2020-06-08 05:11:50,234 BAD EPOCHS (no improvement): 0\n",
      "saving best model\n",
      "2020-06-08 05:11:56,797 ----------------------------------------------------------------------------------------------------\n",
      "2020-06-08 05:14:49,615 epoch 14 - iter 500/5000 - loss 0.51755642 - samples/sec: 95.53\n",
      "2020-06-08 05:17:45,597 epoch 14 - iter 1000/5000 - loss 0.51441444 - samples/sec: 93.64\n",
      "2020-06-08 05:20:40,683 epoch 14 - iter 1500/5000 - loss 0.51544514 - samples/sec: 94.24\n",
      "2020-06-08 05:23:37,974 epoch 14 - iter 2000/5000 - loss 0.51814394 - samples/sec: 93.23\n",
      "2020-06-08 05:26:35,416 epoch 14 - iter 2500/5000 - loss 0.51904290 - samples/sec: 92.90\n",
      "2020-06-08 05:29:31,274 epoch 14 - iter 3000/5000 - loss 0.51930986 - samples/sec: 93.67\n",
      "2020-06-08 05:32:26,990 epoch 14 - iter 3500/5000 - loss 0.52003149 - samples/sec: 93.77\n",
      "2020-06-08 05:35:29,352 epoch 14 - iter 4000/5000 - loss 0.51996052 - samples/sec: 90.56\n",
      "2020-06-08 05:38:23,893 epoch 14 - iter 4500/5000 - loss 0.52038353 - samples/sec: 94.42\n",
      "2020-06-08 05:41:21,502 epoch 14 - iter 5000/5000 - loss 0.52092430 - samples/sec: 92.70\n",
      "2020-06-08 05:41:21,652 ----------------------------------------------------------------------------------------------------\n",
      "2020-06-08 05:41:21,653 EPOCH 14 done: loss 0.5209 - lr 0.1000000\n",
      "2020-06-08 05:42:05,985 DEV : loss 0.4635327160358429 - score 0.7774\n",
      "2020-06-08 05:42:27,490 BAD EPOCHS (no improvement): 1\n",
      "2020-06-08 05:42:27,494 ----------------------------------------------------------------------------------------------------\n",
      "2020-06-08 05:45:23,586 epoch 15 - iter 500/5000 - loss 0.51809775 - samples/sec: 93.71\n",
      "2020-06-08 05:48:22,558 epoch 15 - iter 1000/5000 - loss 0.51935580 - samples/sec: 92.03\n",
      "2020-06-08 05:51:19,113 epoch 15 - iter 1500/5000 - loss 0.51901350 - samples/sec: 93.40\n",
      "2020-06-08 05:54:17,961 epoch 15 - iter 2000/5000 - loss 0.51855464 - samples/sec: 92.09\n",
      "2020-06-08 05:57:17,890 epoch 15 - iter 2500/5000 - loss 0.51843474 - samples/sec: 91.61\n",
      "2020-06-08 06:00:15,613 epoch 15 - iter 3000/5000 - loss 0.51952459 - samples/sec: 92.48\n",
      "2020-06-08 06:03:16,587 epoch 15 - iter 3500/5000 - loss 0.51929427 - samples/sec: 91.11\n",
      "2020-06-08 06:06:15,493 epoch 15 - iter 4000/5000 - loss 0.51921309 - samples/sec: 92.28\n",
      "2020-06-08 06:09:13,941 epoch 15 - iter 4500/5000 - loss 0.51808248 - samples/sec: 92.37\n",
      "2020-06-08 06:12:13,772 epoch 15 - iter 5000/5000 - loss 0.51783639 - samples/sec: 91.60\n",
      "2020-06-08 06:12:13,928 ----------------------------------------------------------------------------------------------------\n",
      "2020-06-08 06:12:13,930 EPOCH 15 done: loss 0.5178 - lr 0.1000000\n",
      "2020-06-08 06:12:57,227 DEV : loss 0.46168971061706543 - score 0.7763\n",
      "2020-06-08 06:13:17,839 BAD EPOCHS (no improvement): 2\n",
      "2020-06-08 06:13:17,843 ----------------------------------------------------------------------------------------------------\n",
      "2020-06-08 06:16:18,976 epoch 16 - iter 500/5000 - loss 0.51656256 - samples/sec: 91.75\n",
      "2020-06-08 06:19:17,929 epoch 16 - iter 1000/5000 - loss 0.51766480 - samples/sec: 92.12\n",
      "2020-06-08 06:22:16,763 epoch 16 - iter 1500/5000 - loss 0.51791431 - samples/sec: 91.90\n",
      "2020-06-08 06:25:18,604 epoch 16 - iter 2000/5000 - loss 0.51732222 - samples/sec: 90.51\n",
      "2020-06-08 06:28:22,634 epoch 16 - iter 2500/5000 - loss 0.51540059 - samples/sec: 89.42\n",
      "2020-06-08 06:31:24,711 epoch 16 - iter 3000/5000 - loss 0.51584271 - samples/sec: 90.48\n",
      "2020-06-08 06:34:29,508 epoch 16 - iter 3500/5000 - loss 0.51610896 - samples/sec: 89.19\n",
      "2020-06-08 06:37:30,096 epoch 16 - iter 4000/5000 - loss 0.51625256 - samples/sec: 91.10\n",
      "2020-06-08 06:40:32,239 epoch 16 - iter 4500/5000 - loss 0.51701628 - samples/sec: 90.56\n",
      "2020-06-08 06:43:35,711 epoch 16 - iter 5000/5000 - loss 0.51700379 - samples/sec: 89.86\n",
      "2020-06-08 06:43:35,915 ----------------------------------------------------------------------------------------------------\n",
      "2020-06-08 06:43:35,917 EPOCH 16 done: loss 0.5170 - lr 0.1000000\n",
      "2020-06-08 06:44:22,765 DEV : loss 0.4706850051879883 - score 0.7747\n",
      "2020-06-08 06:44:44,252 BAD EPOCHS (no improvement): 3\n",
      "2020-06-08 06:44:44,256 ----------------------------------------------------------------------------------------------------\n",
      "2020-06-08 06:47:44,070 epoch 17 - iter 500/5000 - loss 0.51705060 - samples/sec: 91.88\n",
      "2020-06-08 06:50:47,170 epoch 17 - iter 1000/5000 - loss 0.51103775 - samples/sec: 89.89\n",
      "2020-06-08 06:53:47,047 epoch 17 - iter 1500/5000 - loss 0.51225715 - samples/sec: 91.75\n",
      "2020-06-08 06:56:51,647 epoch 17 - iter 2000/5000 - loss 0.51267254 - samples/sec: 89.21\n",
      "2020-06-08 06:59:58,840 epoch 17 - iter 2500/5000 - loss 0.51328630 - samples/sec: 88.29\n",
      "2020-06-08 07:03:04,508 epoch 17 - iter 3000/5000 - loss 0.51304870 - samples/sec: 88.74\n",
      "2020-06-08 07:06:13,203 epoch 17 - iter 3500/5000 - loss 0.51439830 - samples/sec: 87.73\n",
      "2020-06-08 07:09:23,610 epoch 17 - iter 4000/5000 - loss 0.51448027 - samples/sec: 86.45\n",
      "2020-06-08 07:12:33,707 epoch 17 - iter 4500/5000 - loss 0.51524049 - samples/sec: 86.56\n",
      "2020-06-08 07:15:47,564 epoch 17 - iter 5000/5000 - loss 0.51546806 - samples/sec: 85.15\n",
      "2020-06-08 07:15:47,712 ----------------------------------------------------------------------------------------------------\n",
      "2020-06-08 07:15:47,714 EPOCH 17 done: loss 0.5155 - lr 0.1000000\n",
      "2020-06-08 07:16:34,546 DEV : loss 0.4588399827480316 - score 0.7824\n",
      "2020-06-08 07:16:55,518 BAD EPOCHS (no improvement): 4\n"
     ]
    },
    {
     "name": "stdout",
     "output_type": "stream",
     "text": [
      "2020-06-08 07:16:55,522 ----------------------------------------------------------------------------------------------------\n",
      "2020-06-08 07:20:00,296 epoch 18 - iter 500/5000 - loss 0.51735301 - samples/sec: 89.25\n",
      "2020-06-08 07:23:10,008 epoch 18 - iter 1000/5000 - loss 0.51396851 - samples/sec: 86.95\n",
      "2020-06-08 07:26:19,668 epoch 18 - iter 1500/5000 - loss 0.51302203 - samples/sec: 87.09\n",
      "2020-06-08 08:44:15,075 epoch 18 - iter 2000/5000 - loss 0.51255845 - samples/sec: 3.43\n",
      "2020-06-08 08:46:52,922 epoch 18 - iter 2500/5000 - loss 0.51301658 - samples/sec: 104.32\n",
      "2020-06-08 08:50:25,980 epoch 18 - iter 3000/5000 - loss 0.51303938 - samples/sec: 77.44\n",
      "2020-06-08 08:55:41,935 epoch 18 - iter 3500/5000 - loss 0.51305431 - samples/sec: 52.18\n",
      "2020-06-08 08:59:35,888 epoch 18 - iter 4000/5000 - loss 0.51344307 - samples/sec: 70.73\n",
      "2020-06-08 09:02:29,986 epoch 18 - iter 4500/5000 - loss 0.51322497 - samples/sec: 94.70\n",
      "2020-06-08 09:05:28,158 epoch 18 - iter 5000/5000 - loss 0.51384326 - samples/sec: 92.20\n",
      "2020-06-08 09:05:28,343 ----------------------------------------------------------------------------------------------------\n",
      "2020-06-08 09:05:28,346 EPOCH 18 done: loss 0.5138 - lr 0.1000000\n",
      "2020-06-08 09:06:18,444 DEV : loss 0.46499574184417725 - score 0.7786\n",
      "2020-06-08 09:06:40,861 BAD EPOCHS (no improvement): 5\n",
      "2020-06-08 09:06:40,865 ----------------------------------------------------------------------------------------------------\n",
      "2020-06-08 09:10:10,401 epoch 19 - iter 500/5000 - loss 0.51490212 - samples/sec: 78.54\n",
      "2020-06-08 09:13:58,001 epoch 19 - iter 1000/5000 - loss 0.51031951 - samples/sec: 72.36\n",
      "2020-06-08 09:17:45,025 epoch 19 - iter 1500/5000 - loss 0.51101581 - samples/sec: 72.55\n",
      "2020-06-08 09:21:31,747 epoch 19 - iter 2000/5000 - loss 0.51156789 - samples/sec: 72.47\n",
      "2020-06-08 09:25:45,923 epoch 19 - iter 2500/5000 - loss 0.51267617 - samples/sec: 64.74\n"
     ]
    }
   ],
   "source": [
    "trainer.train('model-saves',\n",
    "              learning_rate=0.1,\n",
    "              mini_batch_size=32,\n",
    "              anneal_factor=0.5,\n",
    "              patience=8,\n",
    "              max_epochs=200)"
   ]
  },
  {
   "cell_type": "markdown",
   "metadata": {},
   "source": [
    "## Testing model\n"
   ]
  },
  {
   "cell_type": "code",
   "execution_count": null,
   "metadata": {},
   "outputs": [],
   "source": [
    "classifier = TextClassifier.load('model-saves/final-model.pt')\n",
    "\n",
    "pos_sentence = Sentence(preprocess('I love Python!'))\n",
    "neg_sentence = Sentence(preprocess('Python is the worst!'))\n",
    "\n",
    "classifier.predict(pos_sentence)\n",
    "classifier.predict(neg_sentence)\n",
    "\n",
    "print(pos_sentence.labels, neg_sentence.labels)"
   ]
  }
 ],
 "metadata": {
  "kernelspec": {
   "display_name": "Python 3",
   "language": "python",
   "name": "python3"
  },
  "language_info": {
   "codemirror_mode": {
    "name": "ipython",
    "version": 3
   },
   "file_extension": ".py",
   "mimetype": "text/x-python",
   "name": "python",
   "nbconvert_exporter": "python",
   "pygments_lexer": "ipython3",
   "version": "3.6.4"
  },
  "varInspector": {
   "cols": {
    "lenName": 16,
    "lenType": 16,
    "lenVar": 40
   },
   "kernels_config": {
    "python": {
     "delete_cmd_postfix": "",
     "delete_cmd_prefix": "del ",
     "library": "var_list.py",
     "varRefreshCmd": "print(var_dic_list())"
    },
    "r": {
     "delete_cmd_postfix": ") ",
     "delete_cmd_prefix": "rm(",
     "library": "var_list.r",
     "varRefreshCmd": "cat(var_dic_list()) "
    }
   },
   "types_to_exclude": [
    "module",
    "function",
    "builtin_function_or_method",
    "instance",
    "_Feature"
   ],
   "window_display": false
  }
 },
 "nbformat": 4,
 "nbformat_minor": 2
}
